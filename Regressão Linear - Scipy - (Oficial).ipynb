{
 "cells": [
  {
   "cell_type": "markdown",
   "id": "bfe2031d",
   "metadata": {},
   "source": [
    "# Regressão Linear - SciPy \n",
    "### Jonatha Rodrigues T. Vaz\n",
    "### 10.09.2023\n",
    "### Modelo Machine Learning\n",
    "\n",
    "# Iniciando \n",
    "\n",
    "## Importando as Bibliotecas para uso da Criação da ML\n",
    "## Criando Variável para Leitura do Arquivo/DataFrame"
   ]
  },
  {
   "cell_type": "code",
   "execution_count": 1,
   "id": "9f4c7670",
   "metadata": {},
   "outputs": [],
   "source": [
    "import numpy as np\n",
    "import pandas as pd\n",
    "import matplotlib.pyplot as plt\n",
    "\n",
    "dados = pd.read_csv('Regresao_Linear.csv')"
   ]
  },
  {
   "cell_type": "markdown",
   "id": "4f7eaec6",
   "metadata": {},
   "source": [
    "# Visualizando as primeiras linhas do DATAFRAME."
   ]
  },
  {
   "cell_type": "code",
   "execution_count": 2,
   "id": "55b14dea",
   "metadata": {},
   "outputs": [
    {
     "data": {
      "text/html": [
       "<div>\n",
       "<style scoped>\n",
       "    .dataframe tbody tr th:only-of-type {\n",
       "        vertical-align: middle;\n",
       "    }\n",
       "\n",
       "    .dataframe tbody tr th {\n",
       "        vertical-align: top;\n",
       "    }\n",
       "\n",
       "    .dataframe thead th {\n",
       "        text-align: right;\n",
       "    }\n",
       "</style>\n",
       "<table border=\"1\" class=\"dataframe\">\n",
       "  <thead>\n",
       "    <tr style=\"text-align: right;\">\n",
       "      <th></th>\n",
       "      <th>X</th>\n",
       "      <th>Y</th>\n",
       "    </tr>\n",
       "  </thead>\n",
       "  <tbody>\n",
       "    <tr>\n",
       "      <th>0</th>\n",
       "      <td>0.00000</td>\n",
       "      <td>-11.656137</td>\n",
       "    </tr>\n",
       "    <tr>\n",
       "      <th>1</th>\n",
       "      <td>0.10101</td>\n",
       "      <td>-8.074456</td>\n",
       "    </tr>\n",
       "    <tr>\n",
       "      <th>2</th>\n",
       "      <td>0.20202</td>\n",
       "      <td>-16.588246</td>\n",
       "    </tr>\n",
       "    <tr>\n",
       "      <th>3</th>\n",
       "      <td>0.30303</td>\n",
       "      <td>-4.275013</td>\n",
       "    </tr>\n",
       "    <tr>\n",
       "      <th>4</th>\n",
       "      <td>0.40404</td>\n",
       "      <td>-8.714275</td>\n",
       "    </tr>\n",
       "  </tbody>\n",
       "</table>\n",
       "</div>"
      ],
      "text/plain": [
       "         X          Y\n",
       "0  0.00000 -11.656137\n",
       "1  0.10101  -8.074456\n",
       "2  0.20202 -16.588246\n",
       "3  0.30303  -4.275013\n",
       "4  0.40404  -8.714275"
      ]
     },
     "execution_count": 2,
     "metadata": {},
     "output_type": "execute_result"
    }
   ],
   "source": [
    "dados.head()"
   ]
  },
  {
   "cell_type": "markdown",
   "id": "9aa1fd5a",
   "metadata": {},
   "source": [
    "# Criando Variavéis \"x\" e \"y\" para criar o Modelo ML e suas relações de colunas e linhas."
   ]
  },
  {
   "cell_type": "code",
   "execution_count": 3,
   "id": "a20a3fde",
   "metadata": {},
   "outputs": [],
   "source": [
    "X = dados['X'].values\n",
    "Y = dados['Y'].values"
   ]
  },
  {
   "cell_type": "markdown",
   "id": "eb9af4cc",
   "metadata": {},
   "source": [
    "# Visualizando em um Gráfico se existe uma Regressão Linear."
   ]
  },
  {
   "cell_type": "code",
   "execution_count": 4,
   "id": "4cfffdbc",
   "metadata": {},
   "outputs": [
    {
     "data": {
      "image/png": "[encoded data removed]",
      "text/plain": [
       "<Figure size 640x480 with 1 Axes>"
      ]
     },
     "metadata": {},
     "output_type": "display_data"
    }
   ],
   "source": [
    "plt.scatter(X,Y,label='Y(X)');\n",
    "plt.xlabel('X');\n",
    "plt.ylabel('Y');\n",
    "plt.legend();"
   ]
  },
  {
   "cell_type": "markdown",
   "id": "b7134d82",
   "metadata": {},
   "source": [
    "# Importando modelo de Regressão Linear Estatístico através do Scipy para Criação da ML."
   ]
  },
  {
   "cell_type": "code",
   "execution_count": 5,
   "id": "83b03cc8",
   "metadata": {},
   "outputs": [],
   "source": [
    "from scipy.stats import linregress"
   ]
  },
  {
   "cell_type": "markdown",
   "id": "b554f3be",
   "metadata": {},
   "source": [
    "# Atribuindo Valor (criando variavél) em relação a Regressão Linear do Scipy Stats\n",
    "# Criando os Coeficientes (Angular e Linear) para Obter suas Relações do Modelo e Visualizar em um Gráfico de Regressão Linear."
   ]
  },
  {
   "cell_type": "code",
   "execution_count": 6,
   "id": "85fd68c6",
   "metadata": {},
   "outputs": [
    {
     "name": "stdout",
     "output_type": "stream",
     "text": [
      "Coeficiente angular = 3.51\n",
      "Coeficiente linear = -11.11\n"
     ]
    }
   ],
   "source": [
    "coef_angular, coef_linear,_,_,std_err = linregress(X, Y)\n",
    "\n",
    "print(\"Coeficiente angular = {:0.2f}\".format(coef_angular))\n",
    "print(\"Coeficiente linear = {:0.2f}\".format(coef_linear))"
   ]
  },
  {
   "cell_type": "markdown",
   "id": "c9383343",
   "metadata": {},
   "source": [
    "# Visualizando o Desvio Padrão (exceção) do Modelo de Regressão."
   ]
  },
  {
   "cell_type": "code",
   "execution_count": 7,
   "id": "290c2d2c",
   "metadata": {},
   "outputs": [
    {
     "name": "stdout",
     "output_type": "stream",
     "text": [
      "Desvio padrão = 0.08\n"
     ]
    }
   ],
   "source": [
    "print(\"Desvio padrão = {:0.2f}\".format(std_err))"
   ]
  },
  {
   "cell_type": "markdown",
   "id": "eb0f78e7",
   "metadata": {},
   "source": [
    "# Criando a \"Reta\" Linear para Visualizar no Gráfico de Regressão, de acordo com as Variavés \"x\" e \"y\"."
   ]
  },
  {
   "cell_type": "code",
   "execution_count": 8,
   "id": "956cb7df",
   "metadata": {},
   "outputs": [],
   "source": [
    "reta = coef_angular*X+coef_linear"
   ]
  },
  {
   "cell_type": "markdown",
   "id": "94dabdfa",
   "metadata": {},
   "source": [
    "# Visualizando o Gráfico de Regressão Linear com a \"Reta\", \"X\", \"Y\" e suas Relações."
   ]
  },
  {
   "cell_type": "code",
   "execution_count": 9,
   "id": "c4457fd8",
   "metadata": {},
   "outputs": [
    {
     "data": {
      "image/png": "[encoded data removed]",
      "text/plain": [
       "<Figure size 640x480 with 1 Axes>"
      ]
     },
     "metadata": {},
     "output_type": "display_data"
    }
   ],
   "source": [
    "plt.scatter(X,Y,label='Y(X)', color='purple');\n",
    "plt.plot(X,reta,label='Ajuste linear/Reta Linear',color='blue');\n",
    "plt.xlabel('X');\n",
    "plt.ylabel('Y');\n",
    "plt.legend();"
   ]
  },
  {
   "cell_type": "markdown",
   "id": "887da274",
   "metadata": {},
   "source": [
    "#  Verificando possiveís Médias de Erros do Modelo ML através do SkLearn Metrics, Mean.Error e das Variaveís \"x\" e \"y\"."
   ]
  },
  {
   "cell_type": "code",
   "execution_count": 10,
   "id": "f333ecfb",
   "metadata": {},
   "outputs": [
    {
     "name": "stdout",
     "output_type": "stream",
     "text": [
      "MAE = 1.89\n",
      "RMSE = 2.43\n"
     ]
    }
   ],
   "source": [
    "from sklearn.metrics import mean_absolute_error,mean_squared_error\n",
    "\n",
    "MAE = mean_absolute_error(Y,reta)\n",
    "RMSE = np.sqrt(mean_squared_error(Y,reta))\n",
    "\n",
    "print(\"MAE = {:0.2f}\".format(MAE))\n",
    "print(\"RMSE = {:0.2f}\".format(RMSE))"
   ]
  }
 ],
 "metadata": {
  "kernelspec": {
   "display_name": "Python 3 (ipykernel)",
   "language": "python",
   "name": "python3"
  },
  "language_info": {
   "codemirror_mode": {
    "name": "ipython",
    "version": 3
   },
   "file_extension": ".py",
   "mimetype": "text/x-python",
   "name": "python",
   "nbconvert_exporter": "python",
   "pygments_lexer": "ipython3",
   "version": "3.9.13"
  }
 },
 "nbformat": 4,
 "nbformat_minor": 5
}
